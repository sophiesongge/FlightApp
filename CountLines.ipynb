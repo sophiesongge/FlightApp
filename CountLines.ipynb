{
 "cells": [
  {
   "cell_type": "code",
   "execution_count": 10,
   "metadata": {
    "collapsed": false,
    "scrolled": true
   },
   "outputs": [
    {
     "name": "stdout",
     "output_type": "stream",
     "text": [
      "The number of lines is: 1000\n",
      "\n"
     ]
    }
   ],
   "source": [
    "def readline(filepath):\n",
    "    count = 0\n",
    "    while True:\n",
    "        buffer = filepath.read(8192*1024)\n",
    "        if not buffer:\n",
    "            break\n",
    "        count += buffer.count('\\n')\n",
    "    count += 1\n",
    "    return count\n",
    "\n",
    "\n",
    "inputFile1 = open('/Users/Sophie/Documents/workspace/kNN/data/databig2.txt', 'r')\n",
    "#inputFile2 = open('./data/bookings.csv', 'r')\n",
    "\n",
    "\n",
    "print('The number of lines is: '+str(readline(inputFile1))+\"\\n\")\n",
    "#print('The number of lines for searches.csv is: '+str(readline(inputFile1))+\"\\n\")\n",
    "#print('The number of lines for bookings.csv is: '+str(readline(inputFile2))+\"\\n\")\n",
    "#outputFile = open('./output/NumberOfLines.txt', 'w')\n",
    "#outputFile.write('The number of lines for searches.csv is: '+str(readline(inputFile1))+\"\\n\")\n",
    "#outputFile.write('The number of lines for bookings.csv is: '+str(readline(inputFile2))+\"\\n\")\n",
    "#outputFile.close( )\n",
    "inputFile1.close( )\n",
    "#inputFile2.close( )"
   ]
  }
 ],
 "metadata": {
  "kernelspec": {
   "display_name": "Python 3",
   "language": "python",
   "name": "python3"
  },
  "language_info": {
   "codemirror_mode": {
    "name": "ipython",
    "version": 3
   },
   "file_extension": ".py",
   "mimetype": "text/x-python",
   "name": "python",
   "nbconvert_exporter": "python",
   "pygments_lexer": "ipython3",
   "version": "3.5.1"
  }
 },
 "nbformat": 4,
 "nbformat_minor": 0
}
