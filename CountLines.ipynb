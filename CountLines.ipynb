{
 "cells": [
  {
   "cell_type": "code",
   "execution_count": null,
   "metadata": {
    "collapsed": false,
    "scrolled": true
   },
   "outputs": [],
   "source": [
    "def readline(filepath):\n",
    "    count = 0\n",
    "    while True:\n",
    "        buffer = filepath.read(8192*1024)\n",
    "        if not buffer:\n",
    "            break\n",
    "        count += buffer.count('\\n')\n",
    "    return count\n",
    "\n",
    "inputFile1 = open('./data/searches.csv', 'r')\n",
    "inputFile2 = open('./data/bookings.csv', 'r')\n",
    "\n",
    "outputFile = open('./output/NumberOfLines.txt', 'w')\n",
    "outputFile.write('The number of lines for searches.csv is: '+str(readline(inputFile1))+\"\\n\")\n",
    "outputFile.write('The number of lines for bookings.csv is: '+str(readline(inputFile2))+\"\\n\")\n",
    "outputFile.close( )\n",
    "inputFile1.close( )\n",
    "inputFile2.close( )"
   ]
  }
 ],
 "metadata": {
  "kernelspec": {
   "display_name": "Python 3",
   "language": "python",
   "name": "python3"
  },
  "language_info": {
   "codemirror_mode": {
    "name": "ipython",
    "version": 3
   },
   "file_extension": ".py",
   "mimetype": "text/x-python",
   "name": "python",
   "nbconvert_exporter": "python",
   "pygments_lexer": "ipython3",
   "version": "3.5.1"
  }
 },
 "nbformat": 4,
 "nbformat_minor": 0
}
