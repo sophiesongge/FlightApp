{
 "cells": [
  {
   "cell_type": "code",
   "execution_count": 1,
   "metadata": {
    "collapsed": false
   },
   "outputs": [],
   "source": [
    "%matplotlib inline\n",
    "import matplotlib.pyplot as plt\n",
    "\n",
    "plt.xlabel('Month')\n",
    "plt.ylabel('Number of Searches')\n",
    "plt.title('Monthly Search Number for Malaga, Madrid and Barcelona')\n",
    "plt.xlim(0,13)\n",
    "\n",
    "month1 = [1,2,3,4,5,6,7,8,9,10,11,12]\n",
    "month2 = [1.25,2.25,3.25,4.25,5.25,6.25,7.25,8.25,9.25,10.25,11.25,12.25]\n",
    "month3 = [1.5,2.5,3.5,4.5,5.5,6.5,7.5,8.5,9.5,10.5,11.5,12.5]\n",
    "plot1 = plt.bar(month1,[9633,8379,10659,8265,10830,7923,8892,7866,8151,6499,6384,3696], color = 'r',width = .25, label='AGP')\n",
    "plot2 = plt.bar(month2,[24258,22800,24681,25251,26334,22800,22971,21831,21147,22294,20272,14504], color = 'b',width = .25,  label='MAD')\n",
    "plot3 = plt.bar(month3,[29469,28329,30552,31236,28728,26505,29241,27075,23427,20276,19824,15400], color = 'g', width = .25, label='BCN')\n",
    "plt.legend()\n",
    "plt.show()\n",
    "\n",
    "plt.savefig('./output/MonthlySearchHistogram.png')"
   ]
  }
 ],
 "metadata": {
  "kernelspec": {
   "display_name": "Python 3",
   "language": "python",
   "name": "python3"
  },
  "language_info": {
   "codemirror_mode": {
    "name": "ipython",
    "version": 3
   },
   "file_extension": ".py",
   "mimetype": "text/x-python",
   "name": "python",
   "nbconvert_exporter": "python",
   "pygments_lexer": "ipython3",
   "version": "3.5.1"
  }
 },
 "nbformat": 4,
 "nbformat_minor": 0
}
