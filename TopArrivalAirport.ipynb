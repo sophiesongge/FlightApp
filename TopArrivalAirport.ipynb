{
 "cells": [
  {
   "cell_type": "code",
   "execution_count": 1,
   "metadata": {
    "collapsed": false,
    "scrolled": true
   },
   "outputs": [
    {
     "name": "stdout",
     "output_type": "stream",
     "text": [
      "Iteration is finished\n"
     ]
    }
   ],
   "source": [
    "import pandas as pd\n",
    "\n",
    "inputFile = pd.read_csv('./data/bookings.csv', sep='\\s*\\^',engine='python', iterator=True)\n",
    "\n",
    "loop = True\n",
    "chunkSize = 10000\n",
    "chunks = []\n",
    "tops = []\n",
    "while loop:\n",
    "    try: \n",
    "        chunck = inputFile.get_chunk(chunkSize)\n",
    "        usefulColumn = chunck[['arr_port', 'pax']]\n",
    "        topArrival = usefulColumn.groupby('arr_port').sum().sort_values('pax', ascending=False).head(10)['pax']\n",
    "        tops.append(topArrival)\n",
    "    except StopIteration:\n",
    "        loop = False\n",
    "        print (\"Iteration is finished\")\n",
    "\n",
    "df = pd.concat(tops)\n",
    "\n",
    "ss = df.groupby(df.index).sum()\n",
    "\n",
    "ssFrame = pd.DataFrame({'arrival_airport':ss.index, 'passenger_number':ss.values})\n",
    "\n",
    "finalTopArrival = ssFrame.sort_values('passenger_number', ascending=False).head(10)[['arrival_airport', 'passenger_number']]\n",
    "\n",
    "op = open('./output/TopArrivalAirports.txt', 'w')\n",
    "\n",
    "op.write(str(finalTopArrival))\n",
    "\n",
    "op.close()\n",
    "\n",
    "\n",
    "\n",
    "\n",
    "\n"
   ]
  }
 ],
 "metadata": {
  "kernelspec": {
   "display_name": "Python 3",
   "language": "python",
   "name": "python3"
  },
  "language_info": {
   "codemirror_mode": {
    "name": "ipython",
    "version": 3
   },
   "file_extension": ".py",
   "mimetype": "text/x-python",
   "name": "python",
   "nbconvert_exporter": "python",
   "pygments_lexer": "ipython3",
   "version": "3.5.1"
  }
 },
 "nbformat": 4,
 "nbformat_minor": 0
}
