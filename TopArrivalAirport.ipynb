{
 "cells": [
  {
   "cell_type": "code",
   "execution_count": 1,
   "metadata": {
    "collapsed": false,
    "scrolled": true
   },
   "outputs": [
    {
     "name": "stdout",
     "output_type": "stream",
     "text": [
      "The top 10 arrival airports are: \n",
      "   arrival_airport  passenger_number\n",
      "66             LHR           86419.0\n",
      "72             MCO           61900.0\n",
      "62             LAX           58810.0\n",
      "61             LAS           57844.0\n",
      "55             JFK           50410.0\n",
      "19             CDG           40870.0\n",
      "77             MIA           40865.0\n",
      "8              BKK           38460.0\n",
      "97             SFO           36945.0\n",
      "35             DXB           32940.0\n"
     ]
    }
   ],
   "source": [
    "import pandas as pd\n",
    "\n",
    "inputFile = pd.read_csv('./data/bookings.csv', sep='\\s*\\^',engine='python', iterator=True)\n",
    "\n",
    "loop = True\n",
    "chunkSize = 10000\n",
    "chunks = []\n",
    "tops = []\n",
    "while loop:\n",
    "    try: \n",
    "        chunck = inputFile.get_chunk(chunkSize)\n",
    "        usefulColumn = chunck[['arr_port', 'pax']]\n",
    "        topArrival = usefulColumn.groupby('arr_port').sum().sort_values('pax', ascending=False).head(10)['pax']\n",
    "        tops.append(topArrival)\n",
    "    except StopIteration:\n",
    "        loop = False\n",
    "        #print (\"Iteration is finished\")\n",
    "\n",
    "df = pd.concat(tops)\n",
    "\n",
    "ss = df.groupby(df.index).sum()\n",
    "\n",
    "ssFrame = pd.DataFrame({'arrival_airport':ss.index, 'passenger_number':ss.values})\n",
    "\n",
    "finalTopArrival = ssFrame.sort_values('passenger_number', ascending=False).head(10)[['arrival_airport', 'passenger_number']]\n",
    "\n",
    "op = open('./output/TopArrivalAirports.txt', 'w')\n",
    "\n",
    "op.write(str(finalTopArrival))\n",
    "\n",
    "op.close()\n",
    "\n",
    "print(\"The top 10 arrival airports are: \")\n",
    "print(str(finalTopArrival))\n",
    "\n",
    "\n",
    "\n",
    "\n"
   ]
  }
 ],
 "metadata": {
  "kernelspec": {
   "display_name": "Python 3",
   "language": "python",
   "name": "python3"
  },
  "language_info": {
   "codemirror_mode": {
    "name": "ipython",
    "version": 3
   },
   "file_extension": ".py",
   "mimetype": "text/x-python",
   "name": "python",
   "nbconvert_exporter": "python",
   "pygments_lexer": "ipython3",
   "version": "3.5.1"
  }
 },
 "nbformat": 4,
 "nbformat_minor": 0
}
