{
 "cells": [
  {
   "cell_type": "code",
   "execution_count": 30,
   "metadata": {
    "collapsed": false
   },
   "outputs": [
    {
     "name": "stdout",
     "output_type": "stream",
     "text": [
      "[(22, 'the'), (19, 'of'), (12, 'to'), (11, 'and'), (9, 'in'), (6, 'was'), (6, 'he'), (5, 'their'), (5, 'his'), (4, 'is')]\n"
     ]
    }
   ],
   "source": [
    "def topFreqWords(filename, top = 1):\n",
    "    fp = open(filename, 'r')\n",
    "    text = fp.read()\n",
    "    fp.close()\n",
    "    \n",
    "    wordlist = text.split();\n",
    "    \n",
    "    freqdict = wordListToFreqDict(wordlist)\n",
    "    \n",
    "    res = sortFreqDict(freqdict)\n",
    "    \n",
    "    return res[:top]\n",
    "\n",
    "def wordListToFreqDict(wordlist):\n",
    "    wordfreq = [wordlist.count(p) for p in wordlist]\n",
    "    return dict(zip(wordlist,wordfreq))\n",
    "\n",
    "def sortFreqDict(freqdict):\n",
    "    aux = [(freqdict[key], key) for key in freqdict]\n",
    "    aux.sort()\n",
    "    aux.reverse()\n",
    "    return aux\n",
    "\n",
    "print (topFreqWords('test.txt', 10))"
   ]
  }
 ],
 "metadata": {
  "kernelspec": {
   "display_name": "Python [Root]",
   "language": "python",
   "name": "Python [Root]"
  },
  "language_info": {
   "codemirror_mode": {
    "name": "ipython",
    "version": 3
   },
   "file_extension": ".py",
   "mimetype": "text/x-python",
   "name": "python",
   "nbconvert_exporter": "python",
   "pygments_lexer": "ipython3",
   "version": "3.5.2"
  }
 },
 "nbformat": 4,
 "nbformat_minor": 0
}
